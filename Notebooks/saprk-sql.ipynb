{
 "cells": [
  {
   "cell_type": "code",
   "execution_count": null,
   "metadata": {},
   "outputs": [],
   "source": [
    "select c.cliente, v.data, p.produto, vd.vendedor, iv.valortotal from itensvendas iv\n",
    "    inner join produtos p on (p.produtoid = iv.produtoid)\n",
    "    inner join vendas v on(v.vendasid = ivvendas.id)\n",
    "    inner join vendedor vd on (vd.vendedorid = v.vendedorid)\n",
    "    inner join cliente c on(c.clienteid = v.clienteid);\n"
   ]
  }
 ],
 "metadata": {
  "language_info": {
   "name": "python"
  },
  "orig_nbformat": 4
 },
 "nbformat": 4,
 "nbformat_minor": 2
}
